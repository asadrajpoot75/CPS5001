{
  "nbformat": 4,
  "nbformat_minor": 0,
  "metadata": {
    "colab": {
      "provenance": [],
      "toc_visible": true,
      "authorship_tag": "ABX9TyMi7MaHqeHs0YFbTPGiXO20",
      "include_colab_link": true
    },
    "kernelspec": {
      "name": "python3",
      "display_name": "Python 3"
    },
    "language_info": {
      "name": "python"
    }
  },
  "cells": [
    {
      "cell_type": "markdown",
      "metadata": {
        "id": "view-in-github",
        "colab_type": "text"
      },
      "source": [
        "<a href=\"https://colab.research.google.com/github/asadrajpoot75/CPS5001/blob/main/week2.ipynb\" target=\"_parent\"><img src=\"https://colab.research.google.com/assets/colab-badge.svg\" alt=\"Open In Colab\"/></a>"
      ]
    },
    {
      "cell_type": "markdown",
      "source": [
        "week2"
      ],
      "metadata": {
        "id": "hEEYuhbSZbPV"
      }
    },
    {
      "cell_type": "markdown",
      "source": [
        "example#1"
      ],
      "metadata": {
        "id": "ORR2D5oUZEJd"
      }
    },
    {
      "cell_type": "code",
      "execution_count": 1,
      "metadata": {
        "colab": {
          "base_uri": "https://localhost:8080/"
        },
        "id": "RDzJ63b0YcWs",
        "outputId": "e8212bdb-8d65-436f-bde0-b32f27633fc5"
      },
      "outputs": [
        {
          "output_type": "stream",
          "name": "stdout",
          "text": [
            "hello world\n"
          ]
        }
      ],
      "source": [
        "print(\"hello world\")"
      ]
    },
    {
      "cell_type": "markdown",
      "source": [
        "class activity\n"
      ],
      "metadata": {
        "id": "3nMkFDlud1bq"
      }
    },
    {
      "cell_type": "code",
      "source": [
        "import pandas as pd\n",
        "data = {'Employee_name':['Richard Nicholson','Belinda Carlisle','Romeo Fara','Francisco Chavez'],\n",
        "        'Monthly_Net_Salary':['3256.23',1562,1400.58,'55689'],\n",
        "        'Age':['45',29,'23','Unknown']\n",
        "        }\n",
        "df = pd.DataFrame(data)\n",
        "print(\"\\Data Frame before fixing mixed data types:\\n\",df)\n",
        "\n",
        "def detect_mixed_data_values(df):\n",
        "  mixed_columns={}\n",
        "  for column in df.columns:\n",
        "    inferred_type=pd.api.types.infer_dtype(df[column])\n",
        "    if inferred_type=='mixed-integer':\n",
        "       mixed_columns[column]=inferred_type\n",
        "  return mixed_columns\n",
        "\n",
        "mixed_columns=detect_mixed_data_values(df)\n",
        "print(\"\\nColumns with mixed data types:\",mixed_columns)\n",
        "\n",
        "def fix_mixed_data_values(df):\n",
        "  for column in df.columns:\n",
        "    if pd.api.types.infer_dtype(df[column])=='mixed_integer':\n",
        "      df[column]=pd.to_numeric(df[column],errors='coerce')\n",
        "  return df\n",
        "\n",
        "df_fixed=fix_mixed_data_values(df)\n",
        "print(\"\\nData Frame after fixing mixed data types:\\n\",df_fixed)\n",
        "\n",
        "\n",
        "\n"
      ],
      "metadata": {
        "colab": {
          "base_uri": "https://localhost:8080/"
        },
        "id": "1B-1XddSeEBT",
        "outputId": "0c308a7c-de6b-446c-9c96-03b3599efeeb"
      },
      "execution_count": 17,
      "outputs": [
        {
          "output_type": "stream",
          "name": "stdout",
          "text": [
            "\\Data Frame before fixing mixed data types:\n",
            "        Employee_name Monthly_Net_Salary      Age\n",
            "0  Richard Nicholson            3256.23       45\n",
            "1   Belinda Carlisle               1562       29\n",
            "2         Romeo Fara            1400.58       23\n",
            "3   Francisco Chavez              55689  Unknown\n",
            "\n",
            "Columns with mixed data types: {'Monthly_Net_Salary': 'mixed-integer', 'Age': 'mixed-integer'}\n",
            "\n",
            "Data Frame after fixing mixed data types:\n",
            "        Employee_name Monthly_Net_Salary      Age\n",
            "0  Richard Nicholson            3256.23       45\n",
            "1   Belinda Carlisle               1562       29\n",
            "2         Romeo Fara            1400.58       23\n",
            "3   Francisco Chavez              55689  Unknown\n"
          ]
        }
      ]
    }
  ]
}